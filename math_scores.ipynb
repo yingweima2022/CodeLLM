{
 "cells": [
  {
   "cell_type": "code",
   "execution_count": 15,
   "id": "87434fc7-9561-43cf-83ea-a8a033ecb387",
   "metadata": {},
   "outputs": [
    {
     "name": "stdout",
     "output_type": "stream",
     "text": [
      "25\n",
      "26.651385648\n",
      "24\n",
      "13.227269654166667\n",
      "16\n",
      "7.821430212499999\n",
      "8\n",
      "5.753339775\n"
     ]
    }
   ],
   "source": [
    "with open('device0/math_eval.txt', 'r') as f:\n",
    "    data = f.readlines()\n",
    "\n",
    "    \n",
    "# avg = 0.0\n",
    "sum1 = 0.0\n",
    "num = 0 \n",
    "for idx, da in enumerate(data):\n",
    "    if float(da.strip()) != 1.0 and da.strip()!='nan':\n",
    "        sum1 += float(da.strip())\n",
    "        num += 1\n",
    "    if idx==24:\n",
    "        print(num)\n",
    "        print(sum1/num)\n",
    "        sum1 = 0\n",
    "        num = 0\n",
    "    if idx==49:\n",
    "        print(num)\n",
    "        print(sum1/num)\n",
    "        sum1 = 0\n",
    "        num = 0\n",
    "    if idx==74:\n",
    "        print(num)\n",
    "        print(sum1/num)\n",
    "        sum1 = 0\n",
    "        num = 0\n",
    "    if idx==99:\n",
    "        print(num)\n",
    "        print(sum1/num)\n",
    "        sum1 = 0\n",
    "        num = 0\n",
    "\n",
    "    \n",
    "# print(data.strip())"
   ]
  },
  {
   "cell_type": "code",
   "execution_count": 16,
   "id": "52bf49a3-6ea3-4e95-8db4-93340aa0fae5",
   "metadata": {},
   "outputs": [
    {
     "name": "stdout",
     "output_type": "stream",
     "text": [
      "20\n",
      "0.8626245686\n",
      "12\n",
      "0.2692343405\n",
      "5\n",
      "0.0242436408\n",
      "3\n",
      "0.053125699666666665\n"
     ]
    }
   ],
   "source": [
    "with open('device0/math_eval.txt', 'r') as f:\n",
    "    data = f.readlines()\n",
    "\n",
    "    \n",
    "# avg = 0.0\n",
    "sum1 = 0.0\n",
    "num = 0 \n",
    "for idx, da in enumerate(data):\n",
    "    if float(da.strip()) != 0.0 and da.strip()!='nan':\n",
    "        sum1 += float(da.strip())\n",
    "        num += 1\n",
    "    if idx==24:\n",
    "        print(num)\n",
    "        print(sum1/num)\n",
    "        sum1 = 0\n",
    "        num = 0\n",
    "    if idx==49:\n",
    "        print(num)\n",
    "        print(sum1/num)\n",
    "        sum1 = 0\n",
    "        num = 0\n",
    "    if idx==74:\n",
    "        print(num)\n",
    "        print(sum1/num)\n",
    "        sum1 = 0\n",
    "        num = 0\n",
    "    if idx==99:\n",
    "        print(num)\n",
    "        print(sum1/num)\n",
    "        sum1 = 0\n",
    "        num = 0\n",
    "\n",
    "    \n",
    "# print(data.strip())"
   ]
  }
 ],
 "metadata": {
  "kernelspec": {
   "display_name": "MindSpore",
   "language": "python",
   "name": "mindspore"
  },
  "language_info": {
   "codemirror_mode": {
    "name": "ipython",
    "version": 3
   },
   "file_extension": ".py",
   "mimetype": "text/x-python",
   "name": "python",
   "nbconvert_exporter": "python",
   "pygments_lexer": "ipython3",
   "version": "3.7.10"
  }
 },
 "nbformat": 4,
 "nbformat_minor": 5
}
